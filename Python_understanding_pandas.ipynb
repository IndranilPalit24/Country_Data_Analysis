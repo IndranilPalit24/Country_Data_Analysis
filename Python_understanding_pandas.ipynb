{
 "cells": [
  {
   "cell_type": "markdown",
   "id": "7e788ba0",
   "metadata": {},
   "source": [
    "# Database Name - People, Data inside people"
   ]
  },
  {
   "cell_type": "code",
   "execution_count": 276,
   "id": "9bde1fec",
   "metadata": {},
   "outputs": [],
   "source": [
    "people = {\n",
    "    \"first\" : [\"Indranil\",\"Mayan\",\"Anubhav\"],\n",
    "    \"last\" : [\"Palit\",\"Sahoo\",\"Srivastva\"],\n",
    "    \"email\" : [\"123@email.com\",\"234@email.com\",\"456@email.com\"]\n",
    "}"
   ]
  },
  {
   "cell_type": "code",
   "execution_count": 277,
   "id": "e0de2165",
   "metadata": {},
   "outputs": [
    {
     "data": {
      "text/plain": [
       "['123@email.com', '234@email.com', '456@email.com']"
      ]
     },
     "execution_count": 277,
     "metadata": {},
     "output_type": "execute_result"
    }
   ],
   "source": [
    "people['email']"
   ]
  },
  {
   "cell_type": "code",
   "execution_count": 278,
   "id": "f0dfbbb4",
   "metadata": {},
   "outputs": [],
   "source": [
    "import pandas as pd"
   ]
  },
  {
   "cell_type": "code",
   "execution_count": 279,
   "id": "2ff18254",
   "metadata": {},
   "outputs": [],
   "source": [
    "df = pd.DataFrame(people) #Importing the data into the dataframe"
   ]
  },
  {
   "cell_type": "code",
   "execution_count": 280,
   "id": "c120aa92",
   "metadata": {},
   "outputs": [
    {
     "data": {
      "text/html": [
       "<div>\n",
       "<style scoped>\n",
       "    .dataframe tbody tr th:only-of-type {\n",
       "        vertical-align: middle;\n",
       "    }\n",
       "\n",
       "    .dataframe tbody tr th {\n",
       "        vertical-align: top;\n",
       "    }\n",
       "\n",
       "    .dataframe thead th {\n",
       "        text-align: right;\n",
       "    }\n",
       "</style>\n",
       "<table border=\"1\" class=\"dataframe\">\n",
       "  <thead>\n",
       "    <tr style=\"text-align: right;\">\n",
       "      <th></th>\n",
       "      <th>first</th>\n",
       "      <th>last</th>\n",
       "      <th>email</th>\n",
       "    </tr>\n",
       "  </thead>\n",
       "  <tbody>\n",
       "    <tr>\n",
       "      <th>0</th>\n",
       "      <td>Indranil</td>\n",
       "      <td>Palit</td>\n",
       "      <td>123@email.com</td>\n",
       "    </tr>\n",
       "    <tr>\n",
       "      <th>1</th>\n",
       "      <td>Mayan</td>\n",
       "      <td>Sahoo</td>\n",
       "      <td>234@email.com</td>\n",
       "    </tr>\n",
       "    <tr>\n",
       "      <th>2</th>\n",
       "      <td>Anubhav</td>\n",
       "      <td>Srivastva</td>\n",
       "      <td>456@email.com</td>\n",
       "    </tr>\n",
       "  </tbody>\n",
       "</table>\n",
       "</div>"
      ],
      "text/plain": [
       "      first       last          email\n",
       "0  Indranil      Palit  123@email.com\n",
       "1     Mayan      Sahoo  234@email.com\n",
       "2   Anubhav  Srivastva  456@email.com"
      ]
     },
     "execution_count": 280,
     "metadata": {},
     "output_type": "execute_result"
    }
   ],
   "source": [
    "df #printing the dataframe"
   ]
  },
  {
   "cell_type": "code",
   "execution_count": 281,
   "id": "20415bd4",
   "metadata": {},
   "outputs": [
    {
     "data": {
      "text/plain": [
       "0    123@email.com\n",
       "1    234@email.com\n",
       "2    456@email.com\n",
       "Name: email, dtype: object"
      ]
     },
     "execution_count": 281,
     "metadata": {},
     "output_type": "execute_result"
    }
   ],
   "source": [
    "df['email'] #finding the dataframe for the email column"
   ]
  },
  {
   "cell_type": "code",
   "execution_count": 282,
   "id": "286e2e97",
   "metadata": {},
   "outputs": [
    {
     "data": {
      "text/plain": [
       "pandas.core.series.Series"
      ]
     },
     "execution_count": 282,
     "metadata": {},
     "output_type": "execute_result"
    }
   ],
   "source": [
    "type(df['email'])"
   ]
  },
  {
   "cell_type": "code",
   "execution_count": 283,
   "id": "dc9ecc08",
   "metadata": {},
   "outputs": [
    {
     "data": {
      "text/html": [
       "<div>\n",
       "<style scoped>\n",
       "    .dataframe tbody tr th:only-of-type {\n",
       "        vertical-align: middle;\n",
       "    }\n",
       "\n",
       "    .dataframe tbody tr th {\n",
       "        vertical-align: top;\n",
       "    }\n",
       "\n",
       "    .dataframe thead th {\n",
       "        text-align: right;\n",
       "    }\n",
       "</style>\n",
       "<table border=\"1\" class=\"dataframe\">\n",
       "  <thead>\n",
       "    <tr style=\"text-align: right;\">\n",
       "      <th></th>\n",
       "      <th>email</th>\n",
       "      <th>last</th>\n",
       "    </tr>\n",
       "  </thead>\n",
       "  <tbody>\n",
       "    <tr>\n",
       "      <th>0</th>\n",
       "      <td>123@email.com</td>\n",
       "      <td>Palit</td>\n",
       "    </tr>\n",
       "    <tr>\n",
       "      <th>1</th>\n",
       "      <td>234@email.com</td>\n",
       "      <td>Sahoo</td>\n",
       "    </tr>\n",
       "    <tr>\n",
       "      <th>2</th>\n",
       "      <td>456@email.com</td>\n",
       "      <td>Srivastva</td>\n",
       "    </tr>\n",
       "  </tbody>\n",
       "</table>\n",
       "</div>"
      ],
      "text/plain": [
       "           email       last\n",
       "0  123@email.com      Palit\n",
       "1  234@email.com      Sahoo\n",
       "2  456@email.com  Srivastva"
      ]
     },
     "execution_count": 283,
     "metadata": {},
     "output_type": "execute_result"
    }
   ],
   "source": [
    "df[['email','last']] #To print two columns at once you have to print the dataframe together"
   ]
  },
  {
   "cell_type": "code",
   "execution_count": 284,
   "id": "6bd11243",
   "metadata": {},
   "outputs": [
    {
     "data": {
      "text/plain": [
       "Index(['first', 'last', 'email'], dtype='object')"
      ]
     },
     "execution_count": 284,
     "metadata": {},
     "output_type": "execute_result"
    }
   ],
   "source": [
    "df.columns"
   ]
  },
  {
   "cell_type": "markdown",
   "id": "b21a48b7",
   "metadata": {},
   "source": [
    "##### Using iLoc and Loc(iLoc is index Column find that is find index like 0 and 1 but Loc is basically saying find the index via column name or row name but you can also use 0 and 1)"
   ]
  },
  {
   "cell_type": "markdown",
   "id": "1179fd34",
   "metadata": {},
   "source": [
    "#### Dont use the first data for the above line use the below data to analyse if you want to analyse two data at once"
   ]
  },
  {
   "cell_type": "code",
   "execution_count": 285,
   "id": "8d770e7e",
   "metadata": {},
   "outputs": [
    {
     "name": "stdout",
     "output_type": "stream",
     "text": [
      "[[first         Indranil\n",
      "last             Palit\n",
      "email    123@email.com\n",
      "Name: 0, dtype: object, first            Mayan\n",
      "last             Sahoo\n",
      "email    234@email.com\n",
      "Name: 1, dtype: object]]\n"
     ]
    }
   ],
   "source": [
    "first_data = df.iloc[0]\n",
    "last_data = df.iloc[1]\n",
    "print([[first_data, last_data]])"
   ]
  },
  {
   "cell_type": "code",
   "execution_count": 286,
   "id": "633271fc",
   "metadata": {},
   "outputs": [
    {
     "data": {
      "text/plain": [
       "0    123@email.com\n",
       "1    234@email.com\n",
       "Name: email, dtype: object"
      ]
     },
     "execution_count": 286,
     "metadata": {},
     "output_type": "execute_result"
    }
   ],
   "source": [
    "df.iloc[[0,1],2] #the 0 and 1 represents rows so 0th row and 1st row and the 2 later represents columns that is 2nd column \n",
    "# that is why you are seeing only the emails being printed"
   ]
  },
  {
   "cell_type": "code",
   "execution_count": 287,
   "id": "068938de",
   "metadata": {},
   "outputs": [
    {
     "data": {
      "text/html": [
       "<div>\n",
       "<style scoped>\n",
       "    .dataframe tbody tr th:only-of-type {\n",
       "        vertical-align: middle;\n",
       "    }\n",
       "\n",
       "    .dataframe tbody tr th {\n",
       "        vertical-align: top;\n",
       "    }\n",
       "\n",
       "    .dataframe thead th {\n",
       "        text-align: right;\n",
       "    }\n",
       "</style>\n",
       "<table border=\"1\" class=\"dataframe\">\n",
       "  <thead>\n",
       "    <tr style=\"text-align: right;\">\n",
       "      <th></th>\n",
       "      <th>email</th>\n",
       "      <th>last</th>\n",
       "    </tr>\n",
       "  </thead>\n",
       "  <tbody>\n",
       "    <tr>\n",
       "      <th>0</th>\n",
       "      <td>123@email.com</td>\n",
       "      <td>Palit</td>\n",
       "    </tr>\n",
       "    <tr>\n",
       "      <th>1</th>\n",
       "      <td>234@email.com</td>\n",
       "      <td>Sahoo</td>\n",
       "    </tr>\n",
       "  </tbody>\n",
       "</table>\n",
       "</div>"
      ],
      "text/plain": [
       "           email   last\n",
       "0  123@email.com  Palit\n",
       "1  234@email.com  Sahoo"
      ]
     },
     "execution_count": 287,
     "metadata": {},
     "output_type": "execute_result"
    }
   ],
   "source": [
    "df.loc[[0,1],['email','last']] # now I have put the 0 and 1 in a list that is compelling the loc to print the rows 0 and 1 apart from \n",
    "#that we need to specify the name of the column for which we want the data to be presented\n",
    "\n",
    "# in here you also see that if you want two columns at once then print them in a list"
   ]
  },
  {
   "cell_type": "code",
   "execution_count": 288,
   "id": "dc697991",
   "metadata": {},
   "outputs": [
    {
     "data": {
      "text/plain": [
       "0    123@email.com\n",
       "1    234@email.com\n",
       "2    456@email.com\n",
       "Name: email, dtype: object"
      ]
     },
     "execution_count": 288,
     "metadata": {},
     "output_type": "execute_result"
    }
   ],
   "source": [
    "df['email']"
   ]
  },
  {
   "cell_type": "code",
   "execution_count": 289,
   "id": "7256d424",
   "metadata": {},
   "outputs": [],
   "source": [
    "df.set_index('email', inplace=True)"
   ]
  },
  {
   "cell_type": "code",
   "execution_count": 290,
   "id": "e0e74697",
   "metadata": {},
   "outputs": [
    {
     "data": {
      "text/html": [
       "<div>\n",
       "<style scoped>\n",
       "    .dataframe tbody tr th:only-of-type {\n",
       "        vertical-align: middle;\n",
       "    }\n",
       "\n",
       "    .dataframe tbody tr th {\n",
       "        vertical-align: top;\n",
       "    }\n",
       "\n",
       "    .dataframe thead th {\n",
       "        text-align: right;\n",
       "    }\n",
       "</style>\n",
       "<table border=\"1\" class=\"dataframe\">\n",
       "  <thead>\n",
       "    <tr style=\"text-align: right;\">\n",
       "      <th></th>\n",
       "      <th>first</th>\n",
       "      <th>last</th>\n",
       "    </tr>\n",
       "    <tr>\n",
       "      <th>email</th>\n",
       "      <th></th>\n",
       "      <th></th>\n",
       "    </tr>\n",
       "  </thead>\n",
       "  <tbody>\n",
       "    <tr>\n",
       "      <th>123@email.com</th>\n",
       "      <td>Indranil</td>\n",
       "      <td>Palit</td>\n",
       "    </tr>\n",
       "    <tr>\n",
       "      <th>234@email.com</th>\n",
       "      <td>Mayan</td>\n",
       "      <td>Sahoo</td>\n",
       "    </tr>\n",
       "    <tr>\n",
       "      <th>456@email.com</th>\n",
       "      <td>Anubhav</td>\n",
       "      <td>Srivastva</td>\n",
       "    </tr>\n",
       "  </tbody>\n",
       "</table>\n",
       "</div>"
      ],
      "text/plain": [
       "                  first       last\n",
       "email                             \n",
       "123@email.com  Indranil      Palit\n",
       "234@email.com     Mayan      Sahoo\n",
       "456@email.com   Anubhav  Srivastva"
      ]
     },
     "execution_count": 290,
     "metadata": {},
     "output_type": "execute_result"
    }
   ],
   "source": [
    "df"
   ]
  },
  {
   "cell_type": "code",
   "execution_count": 291,
   "id": "566e8d44",
   "metadata": {},
   "outputs": [
    {
     "data": {
      "text/plain": [
       "Index(['123@email.com', '234@email.com', '456@email.com'], dtype='object', name='email')"
      ]
     },
     "execution_count": 291,
     "metadata": {},
     "output_type": "execute_result"
    }
   ],
   "source": [
    "df.index #the reason it shows index as email is because we have set index as email in the previous cell that means by default \n",
    "#the default index is email"
   ]
  },
  {
   "cell_type": "markdown",
   "id": "eb37a73d",
   "metadata": {},
   "source": [
    "## Video No -05 "
   ]
  },
  {
   "cell_type": "code",
   "execution_count": 292,
   "id": "8c579f38",
   "metadata": {},
   "outputs": [],
   "source": [
    "df.reset_index(inplace=True)"
   ]
  },
  {
   "cell_type": "code",
   "execution_count": 293,
   "id": "2e897db4",
   "metadata": {},
   "outputs": [
    {
     "data": {
      "text/html": [
       "<div>\n",
       "<style scoped>\n",
       "    .dataframe tbody tr th:only-of-type {\n",
       "        vertical-align: middle;\n",
       "    }\n",
       "\n",
       "    .dataframe tbody tr th {\n",
       "        vertical-align: top;\n",
       "    }\n",
       "\n",
       "    .dataframe thead th {\n",
       "        text-align: right;\n",
       "    }\n",
       "</style>\n",
       "<table border=\"1\" class=\"dataframe\">\n",
       "  <thead>\n",
       "    <tr style=\"text-align: right;\">\n",
       "      <th></th>\n",
       "      <th>email</th>\n",
       "      <th>first</th>\n",
       "      <th>last</th>\n",
       "    </tr>\n",
       "  </thead>\n",
       "  <tbody>\n",
       "    <tr>\n",
       "      <th>0</th>\n",
       "      <td>123@email.com</td>\n",
       "      <td>Indranil</td>\n",
       "      <td>Palit</td>\n",
       "    </tr>\n",
       "    <tr>\n",
       "      <th>1</th>\n",
       "      <td>234@email.com</td>\n",
       "      <td>Mayan</td>\n",
       "      <td>Sahoo</td>\n",
       "    </tr>\n",
       "    <tr>\n",
       "      <th>2</th>\n",
       "      <td>456@email.com</td>\n",
       "      <td>Anubhav</td>\n",
       "      <td>Srivastva</td>\n",
       "    </tr>\n",
       "  </tbody>\n",
       "</table>\n",
       "</div>"
      ],
      "text/plain": [
       "           email     first       last\n",
       "0  123@email.com  Indranil      Palit\n",
       "1  234@email.com     Mayan      Sahoo\n",
       "2  456@email.com   Anubhav  Srivastva"
      ]
     },
     "execution_count": 293,
     "metadata": {},
     "output_type": "execute_result"
    }
   ],
   "source": [
    "df"
   ]
  },
  {
   "cell_type": "code",
   "execution_count": 294,
   "id": "1d7a2ec0",
   "metadata": {},
   "outputs": [],
   "source": [
    "df.loc[1,['first','last']] = ['Mayan','Sahoo']"
   ]
  },
  {
   "cell_type": "code",
   "execution_count": 295,
   "id": "e9564dcd",
   "metadata": {},
   "outputs": [],
   "source": [
    "df.loc[2,['first','last']] = ['Anubhav','Srivastva']"
   ]
  },
  {
   "cell_type": "code",
   "execution_count": 296,
   "id": "aabcaa8c",
   "metadata": {},
   "outputs": [
    {
     "data": {
      "text/html": [
       "<div>\n",
       "<style scoped>\n",
       "    .dataframe tbody tr th:only-of-type {\n",
       "        vertical-align: middle;\n",
       "    }\n",
       "\n",
       "    .dataframe tbody tr th {\n",
       "        vertical-align: top;\n",
       "    }\n",
       "\n",
       "    .dataframe thead th {\n",
       "        text-align: right;\n",
       "    }\n",
       "</style>\n",
       "<table border=\"1\" class=\"dataframe\">\n",
       "  <thead>\n",
       "    <tr style=\"text-align: right;\">\n",
       "      <th></th>\n",
       "      <th>email</th>\n",
       "      <th>first</th>\n",
       "      <th>last</th>\n",
       "    </tr>\n",
       "  </thead>\n",
       "  <tbody>\n",
       "    <tr>\n",
       "      <th>0</th>\n",
       "      <td>123@email.com</td>\n",
       "      <td>Indranil</td>\n",
       "      <td>Palit</td>\n",
       "    </tr>\n",
       "    <tr>\n",
       "      <th>1</th>\n",
       "      <td>234@email.com</td>\n",
       "      <td>Mayan</td>\n",
       "      <td>Sahoo</td>\n",
       "    </tr>\n",
       "    <tr>\n",
       "      <th>2</th>\n",
       "      <td>456@email.com</td>\n",
       "      <td>Anubhav</td>\n",
       "      <td>Srivastva</td>\n",
       "    </tr>\n",
       "  </tbody>\n",
       "</table>\n",
       "</div>"
      ],
      "text/plain": [
       "           email     first       last\n",
       "0  123@email.com  Indranil      Palit\n",
       "1  234@email.com     Mayan      Sahoo\n",
       "2  456@email.com   Anubhav  Srivastva"
      ]
     },
     "execution_count": 296,
     "metadata": {},
     "output_type": "execute_result"
    }
   ],
   "source": [
    "df"
   ]
  },
  {
   "cell_type": "code",
   "execution_count": 297,
   "id": "677eda21",
   "metadata": {},
   "outputs": [
    {
     "data": {
      "text/plain": [
       "0    123@EMAIL.COM\n",
       "1    234@EMAIL.COM\n",
       "2    456@EMAIL.COM\n",
       "Name: email, dtype: object"
      ]
     },
     "execution_count": 297,
     "metadata": {},
     "output_type": "execute_result"
    }
   ],
   "source": [
    "df['email'].str.upper()"
   ]
  },
  {
   "cell_type": "code",
   "execution_count": 298,
   "id": "e45e5c31",
   "metadata": {},
   "outputs": [],
   "source": [
    "#apply   #map # replace #applymap"
   ]
  },
  {
   "cell_type": "code",
   "execution_count": 299,
   "id": "c065188d",
   "metadata": {},
   "outputs": [
    {
     "data": {
      "text/plain": [
       "0    13\n",
       "1    13\n",
       "2    13\n",
       "Name: email, dtype: int64"
      ]
     },
     "execution_count": 299,
     "metadata": {},
     "output_type": "execute_result"
    }
   ],
   "source": [
    "df['email'].apply(len)"
   ]
  },
  {
   "cell_type": "code",
   "execution_count": 300,
   "id": "5cfbb2fd",
   "metadata": {},
   "outputs": [],
   "source": [
    "def updateemail(email):\n",
    "    return email.upper()"
   ]
  },
  {
   "cell_type": "code",
   "execution_count": 301,
   "id": "1de9a663",
   "metadata": {},
   "outputs": [
    {
     "data": {
      "text/plain": [
       "0    123@EMAIL.COM\n",
       "1    234@EMAIL.COM\n",
       "2    456@EMAIL.COM\n",
       "Name: email, dtype: object"
      ]
     },
     "execution_count": 301,
     "metadata": {},
     "output_type": "execute_result"
    }
   ],
   "source": [
    "df['email'].apply(updateemail)"
   ]
  },
  {
   "cell_type": "code",
   "execution_count": 302,
   "id": "d1b2146b",
   "metadata": {},
   "outputs": [],
   "source": [
    "#to change in the actual table"
   ]
  },
  {
   "cell_type": "code",
   "execution_count": 303,
   "id": "db51105b",
   "metadata": {},
   "outputs": [],
   "source": [
    "df['email'] = df['email'].apply(updateemail)"
   ]
  },
  {
   "cell_type": "code",
   "execution_count": 304,
   "id": "a066ce5a",
   "metadata": {},
   "outputs": [
    {
     "data": {
      "text/html": [
       "<div>\n",
       "<style scoped>\n",
       "    .dataframe tbody tr th:only-of-type {\n",
       "        vertical-align: middle;\n",
       "    }\n",
       "\n",
       "    .dataframe tbody tr th {\n",
       "        vertical-align: top;\n",
       "    }\n",
       "\n",
       "    .dataframe thead th {\n",
       "        text-align: right;\n",
       "    }\n",
       "</style>\n",
       "<table border=\"1\" class=\"dataframe\">\n",
       "  <thead>\n",
       "    <tr style=\"text-align: right;\">\n",
       "      <th></th>\n",
       "      <th>email</th>\n",
       "      <th>first</th>\n",
       "      <th>last</th>\n",
       "    </tr>\n",
       "  </thead>\n",
       "  <tbody>\n",
       "    <tr>\n",
       "      <th>0</th>\n",
       "      <td>123@EMAIL.COM</td>\n",
       "      <td>Indranil</td>\n",
       "      <td>Palit</td>\n",
       "    </tr>\n",
       "    <tr>\n",
       "      <th>1</th>\n",
       "      <td>234@EMAIL.COM</td>\n",
       "      <td>Mayan</td>\n",
       "      <td>Sahoo</td>\n",
       "    </tr>\n",
       "    <tr>\n",
       "      <th>2</th>\n",
       "      <td>456@EMAIL.COM</td>\n",
       "      <td>Anubhav</td>\n",
       "      <td>Srivastva</td>\n",
       "    </tr>\n",
       "  </tbody>\n",
       "</table>\n",
       "</div>"
      ],
      "text/plain": [
       "           email     first       last\n",
       "0  123@EMAIL.COM  Indranil      Palit\n",
       "1  234@EMAIL.COM     Mayan      Sahoo\n",
       "2  456@EMAIL.COM   Anubhav  Srivastva"
      ]
     },
     "execution_count": 304,
     "metadata": {},
     "output_type": "execute_result"
    }
   ],
   "source": [
    "df"
   ]
  },
  {
   "cell_type": "code",
   "execution_count": 305,
   "id": "8a681cd7",
   "metadata": {},
   "outputs": [],
   "source": [
    "#using lambdas"
   ]
  },
  {
   "cell_type": "code",
   "execution_count": 306,
   "id": "8f3ccafe",
   "metadata": {},
   "outputs": [],
   "source": [
    "df['email'] = df['email'].apply(lambda x: x.lower())"
   ]
  },
  {
   "cell_type": "code",
   "execution_count": 307,
   "id": "a7d24eb5",
   "metadata": {},
   "outputs": [
    {
     "data": {
      "text/html": [
       "<div>\n",
       "<style scoped>\n",
       "    .dataframe tbody tr th:only-of-type {\n",
       "        vertical-align: middle;\n",
       "    }\n",
       "\n",
       "    .dataframe tbody tr th {\n",
       "        vertical-align: top;\n",
       "    }\n",
       "\n",
       "    .dataframe thead th {\n",
       "        text-align: right;\n",
       "    }\n",
       "</style>\n",
       "<table border=\"1\" class=\"dataframe\">\n",
       "  <thead>\n",
       "    <tr style=\"text-align: right;\">\n",
       "      <th></th>\n",
       "      <th>email</th>\n",
       "      <th>first</th>\n",
       "      <th>last</th>\n",
       "    </tr>\n",
       "  </thead>\n",
       "  <tbody>\n",
       "    <tr>\n",
       "      <th>0</th>\n",
       "      <td>123@email.com</td>\n",
       "      <td>Indranil</td>\n",
       "      <td>Palit</td>\n",
       "    </tr>\n",
       "    <tr>\n",
       "      <th>1</th>\n",
       "      <td>234@email.com</td>\n",
       "      <td>Mayan</td>\n",
       "      <td>Sahoo</td>\n",
       "    </tr>\n",
       "    <tr>\n",
       "      <th>2</th>\n",
       "      <td>456@email.com</td>\n",
       "      <td>Anubhav</td>\n",
       "      <td>Srivastva</td>\n",
       "    </tr>\n",
       "  </tbody>\n",
       "</table>\n",
       "</div>"
      ],
      "text/plain": [
       "           email     first       last\n",
       "0  123@email.com  Indranil      Palit\n",
       "1  234@email.com     Mayan      Sahoo\n",
       "2  456@email.com   Anubhav  Srivastva"
      ]
     },
     "execution_count": 307,
     "metadata": {},
     "output_type": "execute_result"
    }
   ],
   "source": [
    "df"
   ]
  },
  {
   "cell_type": "code",
   "execution_count": 308,
   "id": "c0adae73",
   "metadata": {},
   "outputs": [
    {
     "data": {
      "text/plain": [
       "email    3\n",
       "first    3\n",
       "last     3\n",
       "dtype: int64"
      ]
     },
     "execution_count": 308,
     "metadata": {},
     "output_type": "execute_result"
    }
   ],
   "source": [
    "df.apply(len)"
   ]
  },
  {
   "cell_type": "code",
   "execution_count": 309,
   "id": "c5112a45",
   "metadata": {},
   "outputs": [
    {
     "data": {
      "text/plain": [
       "3"
      ]
     },
     "execution_count": 309,
     "metadata": {},
     "output_type": "execute_result"
    }
   ],
   "source": [
    "len(df['email'])"
   ]
  },
  {
   "cell_type": "code",
   "execution_count": 310,
   "id": "35eec5e4",
   "metadata": {},
   "outputs": [
    {
     "data": {
      "text/plain": [
       "email    123@email.com\n",
       "first          Anubhav\n",
       "last             Palit\n",
       "dtype: object"
      ]
     },
     "execution_count": 310,
     "metadata": {},
     "output_type": "execute_result"
    }
   ],
   "source": [
    "df.apply(pd.Series.min)"
   ]
  },
  {
   "cell_type": "code",
   "execution_count": 311,
   "id": "eb7b4173",
   "metadata": {},
   "outputs": [
    {
     "data": {
      "text/html": [
       "<div>\n",
       "<style scoped>\n",
       "    .dataframe tbody tr th:only-of-type {\n",
       "        vertical-align: middle;\n",
       "    }\n",
       "\n",
       "    .dataframe tbody tr th {\n",
       "        vertical-align: top;\n",
       "    }\n",
       "\n",
       "    .dataframe thead th {\n",
       "        text-align: right;\n",
       "    }\n",
       "</style>\n",
       "<table border=\"1\" class=\"dataframe\">\n",
       "  <thead>\n",
       "    <tr style=\"text-align: right;\">\n",
       "      <th></th>\n",
       "      <th>email</th>\n",
       "      <th>first</th>\n",
       "      <th>last</th>\n",
       "    </tr>\n",
       "  </thead>\n",
       "  <tbody>\n",
       "    <tr>\n",
       "      <th>0</th>\n",
       "      <td>123@email.com</td>\n",
       "      <td>Indranil</td>\n",
       "      <td>Palit</td>\n",
       "    </tr>\n",
       "    <tr>\n",
       "      <th>1</th>\n",
       "      <td>234@email.com</td>\n",
       "      <td>Mayan</td>\n",
       "      <td>Sahoo</td>\n",
       "    </tr>\n",
       "    <tr>\n",
       "      <th>2</th>\n",
       "      <td>456@email.com</td>\n",
       "      <td>Anubhav</td>\n",
       "      <td>Srivastva</td>\n",
       "    </tr>\n",
       "  </tbody>\n",
       "</table>\n",
       "</div>"
      ],
      "text/plain": [
       "           email     first       last\n",
       "0  123@email.com  Indranil      Palit\n",
       "1  234@email.com     Mayan      Sahoo\n",
       "2  456@email.com   Anubhav  Srivastva"
      ]
     },
     "execution_count": 311,
     "metadata": {},
     "output_type": "execute_result"
    }
   ],
   "source": [
    "df"
   ]
  },
  {
   "cell_type": "code",
   "execution_count": 312,
   "id": "c759bd79",
   "metadata": {},
   "outputs": [
    {
     "data": {
      "text/plain": [
       "email    123@email.com\n",
       "first         Indranil\n",
       "last             Palit\n",
       "Name: 0, dtype: object"
      ]
     },
     "execution_count": 312,
     "metadata": {},
     "output_type": "execute_result"
    }
   ],
   "source": [
    "df.loc[0]"
   ]
  },
  {
   "cell_type": "code",
   "execution_count": 313,
   "id": "d1bf988d",
   "metadata": {
    "scrolled": false
   },
   "outputs": [
    {
     "data": {
      "text/html": [
       "<div>\n",
       "<style scoped>\n",
       "    .dataframe tbody tr th:only-of-type {\n",
       "        vertical-align: middle;\n",
       "    }\n",
       "\n",
       "    .dataframe tbody tr th {\n",
       "        vertical-align: top;\n",
       "    }\n",
       "\n",
       "    .dataframe thead th {\n",
       "        text-align: right;\n",
       "    }\n",
       "</style>\n",
       "<table border=\"1\" class=\"dataframe\">\n",
       "  <thead>\n",
       "    <tr style=\"text-align: right;\">\n",
       "      <th></th>\n",
       "      <th>email</th>\n",
       "      <th>first</th>\n",
       "      <th>last</th>\n",
       "    </tr>\n",
       "  </thead>\n",
       "  <tbody>\n",
       "    <tr>\n",
       "      <th>0</th>\n",
       "      <td>13</td>\n",
       "      <td>8</td>\n",
       "      <td>5</td>\n",
       "    </tr>\n",
       "    <tr>\n",
       "      <th>1</th>\n",
       "      <td>13</td>\n",
       "      <td>5</td>\n",
       "      <td>5</td>\n",
       "    </tr>\n",
       "    <tr>\n",
       "      <th>2</th>\n",
       "      <td>13</td>\n",
       "      <td>7</td>\n",
       "      <td>9</td>\n",
       "    </tr>\n",
       "  </tbody>\n",
       "</table>\n",
       "</div>"
      ],
      "text/plain": [
       "   email  first  last\n",
       "0     13      8     5\n",
       "1     13      5     5\n",
       "2     13      7     9"
      ]
     },
     "execution_count": 313,
     "metadata": {},
     "output_type": "execute_result"
    }
   ],
   "source": [
    "df.applymap(len)"
   ]
  },
  {
   "cell_type": "code",
   "execution_count": 314,
   "id": "a6a8a3f6",
   "metadata": {},
   "outputs": [
    {
     "data": {
      "text/html": [
       "<div>\n",
       "<style scoped>\n",
       "    .dataframe tbody tr th:only-of-type {\n",
       "        vertical-align: middle;\n",
       "    }\n",
       "\n",
       "    .dataframe tbody tr th {\n",
       "        vertical-align: top;\n",
       "    }\n",
       "\n",
       "    .dataframe thead th {\n",
       "        text-align: right;\n",
       "    }\n",
       "</style>\n",
       "<table border=\"1\" class=\"dataframe\">\n",
       "  <thead>\n",
       "    <tr style=\"text-align: right;\">\n",
       "      <th></th>\n",
       "      <th>email</th>\n",
       "      <th>first</th>\n",
       "      <th>last</th>\n",
       "    </tr>\n",
       "  </thead>\n",
       "  <tbody>\n",
       "    <tr>\n",
       "      <th>0</th>\n",
       "      <td>123@email.com</td>\n",
       "      <td>indranil</td>\n",
       "      <td>palit</td>\n",
       "    </tr>\n",
       "    <tr>\n",
       "      <th>1</th>\n",
       "      <td>234@email.com</td>\n",
       "      <td>mayan</td>\n",
       "      <td>sahoo</td>\n",
       "    </tr>\n",
       "    <tr>\n",
       "      <th>2</th>\n",
       "      <td>456@email.com</td>\n",
       "      <td>anubhav</td>\n",
       "      <td>srivastva</td>\n",
       "    </tr>\n",
       "  </tbody>\n",
       "</table>\n",
       "</div>"
      ],
      "text/plain": [
       "           email     first       last\n",
       "0  123@email.com  indranil      palit\n",
       "1  234@email.com     mayan      sahoo\n",
       "2  456@email.com   anubhav  srivastva"
      ]
     },
     "execution_count": 314,
     "metadata": {},
     "output_type": "execute_result"
    }
   ],
   "source": [
    "df.applymap(str.lower)"
   ]
  },
  {
   "cell_type": "markdown",
   "id": "7e622969",
   "metadata": {},
   "source": [
    "# Video No -06 - Add/Remove Rows"
   ]
  },
  {
   "cell_type": "code",
   "execution_count": 315,
   "id": "ad2c3df8",
   "metadata": {},
   "outputs": [
    {
     "data": {
      "text/plain": [
       "0       Indranil Palit\n",
       "1          Mayan Sahoo\n",
       "2    Anubhav Srivastva\n",
       "dtype: object"
      ]
     },
     "execution_count": 315,
     "metadata": {},
     "output_type": "execute_result"
    }
   ],
   "source": [
    "df['first']+ ' ' +df['last']"
   ]
  },
  {
   "cell_type": "code",
   "execution_count": 316,
   "id": "0a233e7b",
   "metadata": {},
   "outputs": [],
   "source": [
    "#to create a new column you have to do\n",
    "df['full_name'] = df['first'] + ' ' +df['last']"
   ]
  },
  {
   "cell_type": "code",
   "execution_count": 317,
   "id": "fa3f71b3",
   "metadata": {},
   "outputs": [
    {
     "data": {
      "text/html": [
       "<div>\n",
       "<style scoped>\n",
       "    .dataframe tbody tr th:only-of-type {\n",
       "        vertical-align: middle;\n",
       "    }\n",
       "\n",
       "    .dataframe tbody tr th {\n",
       "        vertical-align: top;\n",
       "    }\n",
       "\n",
       "    .dataframe thead th {\n",
       "        text-align: right;\n",
       "    }\n",
       "</style>\n",
       "<table border=\"1\" class=\"dataframe\">\n",
       "  <thead>\n",
       "    <tr style=\"text-align: right;\">\n",
       "      <th></th>\n",
       "      <th>email</th>\n",
       "      <th>first</th>\n",
       "      <th>last</th>\n",
       "      <th>full_name</th>\n",
       "    </tr>\n",
       "  </thead>\n",
       "  <tbody>\n",
       "    <tr>\n",
       "      <th>0</th>\n",
       "      <td>123@email.com</td>\n",
       "      <td>Indranil</td>\n",
       "      <td>Palit</td>\n",
       "      <td>Indranil Palit</td>\n",
       "    </tr>\n",
       "    <tr>\n",
       "      <th>1</th>\n",
       "      <td>234@email.com</td>\n",
       "      <td>Mayan</td>\n",
       "      <td>Sahoo</td>\n",
       "      <td>Mayan Sahoo</td>\n",
       "    </tr>\n",
       "    <tr>\n",
       "      <th>2</th>\n",
       "      <td>456@email.com</td>\n",
       "      <td>Anubhav</td>\n",
       "      <td>Srivastva</td>\n",
       "      <td>Anubhav Srivastva</td>\n",
       "    </tr>\n",
       "  </tbody>\n",
       "</table>\n",
       "</div>"
      ],
      "text/plain": [
       "           email     first       last          full_name\n",
       "0  123@email.com  Indranil      Palit     Indranil Palit\n",
       "1  234@email.com     Mayan      Sahoo        Mayan Sahoo\n",
       "2  456@email.com   Anubhav  Srivastva  Anubhav Srivastva"
      ]
     },
     "execution_count": 317,
     "metadata": {},
     "output_type": "execute_result"
    }
   ],
   "source": [
    "df"
   ]
  },
  {
   "cell_type": "code",
   "execution_count": 318,
   "id": "7413b01a",
   "metadata": {},
   "outputs": [],
   "source": [
    "df.drop(columns=['first','last'],inplace=True)"
   ]
  },
  {
   "cell_type": "code",
   "execution_count": 319,
   "id": "8b06ab5a",
   "metadata": {},
   "outputs": [
    {
     "data": {
      "text/html": [
       "<div>\n",
       "<style scoped>\n",
       "    .dataframe tbody tr th:only-of-type {\n",
       "        vertical-align: middle;\n",
       "    }\n",
       "\n",
       "    .dataframe tbody tr th {\n",
       "        vertical-align: top;\n",
       "    }\n",
       "\n",
       "    .dataframe thead th {\n",
       "        text-align: right;\n",
       "    }\n",
       "</style>\n",
       "<table border=\"1\" class=\"dataframe\">\n",
       "  <thead>\n",
       "    <tr style=\"text-align: right;\">\n",
       "      <th></th>\n",
       "      <th>email</th>\n",
       "      <th>full_name</th>\n",
       "    </tr>\n",
       "  </thead>\n",
       "  <tbody>\n",
       "    <tr>\n",
       "      <th>0</th>\n",
       "      <td>123@email.com</td>\n",
       "      <td>Indranil Palit</td>\n",
       "    </tr>\n",
       "    <tr>\n",
       "      <th>1</th>\n",
       "      <td>234@email.com</td>\n",
       "      <td>Mayan Sahoo</td>\n",
       "    </tr>\n",
       "    <tr>\n",
       "      <th>2</th>\n",
       "      <td>456@email.com</td>\n",
       "      <td>Anubhav Srivastva</td>\n",
       "    </tr>\n",
       "  </tbody>\n",
       "</table>\n",
       "</div>"
      ],
      "text/plain": [
       "           email          full_name\n",
       "0  123@email.com     Indranil Palit\n",
       "1  234@email.com        Mayan Sahoo\n",
       "2  456@email.com  Anubhav Srivastva"
      ]
     },
     "execution_count": 319,
     "metadata": {},
     "output_type": "execute_result"
    }
   ],
   "source": [
    "df"
   ]
  },
  {
   "cell_type": "code",
   "execution_count": 322,
   "id": "08e84727",
   "metadata": {},
   "outputs": [],
   "source": [
    "df[['first','last']] = df['full_name'].str.split(' ',expand=True)"
   ]
  },
  {
   "cell_type": "code",
   "execution_count": 323,
   "id": "d41d80b4",
   "metadata": {
    "scrolled": false
   },
   "outputs": [
    {
     "data": {
      "text/html": [
       "<div>\n",
       "<style scoped>\n",
       "    .dataframe tbody tr th:only-of-type {\n",
       "        vertical-align: middle;\n",
       "    }\n",
       "\n",
       "    .dataframe tbody tr th {\n",
       "        vertical-align: top;\n",
       "    }\n",
       "\n",
       "    .dataframe thead th {\n",
       "        text-align: right;\n",
       "    }\n",
       "</style>\n",
       "<table border=\"1\" class=\"dataframe\">\n",
       "  <thead>\n",
       "    <tr style=\"text-align: right;\">\n",
       "      <th></th>\n",
       "      <th>email</th>\n",
       "      <th>full_name</th>\n",
       "      <th>first</th>\n",
       "      <th>last</th>\n",
       "    </tr>\n",
       "  </thead>\n",
       "  <tbody>\n",
       "    <tr>\n",
       "      <th>0</th>\n",
       "      <td>123@email.com</td>\n",
       "      <td>Indranil Palit</td>\n",
       "      <td>Indranil</td>\n",
       "      <td>Palit</td>\n",
       "    </tr>\n",
       "    <tr>\n",
       "      <th>1</th>\n",
       "      <td>234@email.com</td>\n",
       "      <td>Mayan Sahoo</td>\n",
       "      <td>Mayan</td>\n",
       "      <td>Sahoo</td>\n",
       "    </tr>\n",
       "    <tr>\n",
       "      <th>2</th>\n",
       "      <td>456@email.com</td>\n",
       "      <td>Anubhav Srivastva</td>\n",
       "      <td>Anubhav</td>\n",
       "      <td>Srivastva</td>\n",
       "    </tr>\n",
       "  </tbody>\n",
       "</table>\n",
       "</div>"
      ],
      "text/plain": [
       "           email          full_name     first       last\n",
       "0  123@email.com     Indranil Palit  Indranil      Palit\n",
       "1  234@email.com        Mayan Sahoo     Mayan      Sahoo\n",
       "2  456@email.com  Anubhav Srivastva   Anubhav  Srivastva"
      ]
     },
     "execution_count": 323,
     "metadata": {},
     "output_type": "execute_result"
    }
   ],
   "source": [
    "df"
   ]
  },
  {
   "cell_type": "code",
   "execution_count": 327,
   "id": "2332cd62",
   "metadata": {},
   "outputs": [
    {
     "name": "stderr",
     "output_type": "stream",
     "text": [
      "C:\\Users\\indro\\AppData\\Local\\Temp\\ipykernel_9716\\3339547171.py:1: FutureWarning: The frame.append method is deprecated and will be removed from pandas in a future version. Use pandas.concat instead.\n",
      "  df.append({'first':'Tony'},ignore_index=True)\n"
     ]
    },
    {
     "data": {
      "text/html": [
       "<div>\n",
       "<style scoped>\n",
       "    .dataframe tbody tr th:only-of-type {\n",
       "        vertical-align: middle;\n",
       "    }\n",
       "\n",
       "    .dataframe tbody tr th {\n",
       "        vertical-align: top;\n",
       "    }\n",
       "\n",
       "    .dataframe thead th {\n",
       "        text-align: right;\n",
       "    }\n",
       "</style>\n",
       "<table border=\"1\" class=\"dataframe\">\n",
       "  <thead>\n",
       "    <tr style=\"text-align: right;\">\n",
       "      <th></th>\n",
       "      <th>email</th>\n",
       "      <th>full_name</th>\n",
       "      <th>first</th>\n",
       "      <th>last</th>\n",
       "    </tr>\n",
       "  </thead>\n",
       "  <tbody>\n",
       "    <tr>\n",
       "      <th>0</th>\n",
       "      <td>123@email.com</td>\n",
       "      <td>Indranil Palit</td>\n",
       "      <td>Indranil</td>\n",
       "      <td>Palit</td>\n",
       "    </tr>\n",
       "    <tr>\n",
       "      <th>1</th>\n",
       "      <td>234@email.com</td>\n",
       "      <td>Mayan Sahoo</td>\n",
       "      <td>Mayan</td>\n",
       "      <td>Sahoo</td>\n",
       "    </tr>\n",
       "    <tr>\n",
       "      <th>2</th>\n",
       "      <td>456@email.com</td>\n",
       "      <td>Anubhav Srivastva</td>\n",
       "      <td>Anubhav</td>\n",
       "      <td>Srivastva</td>\n",
       "    </tr>\n",
       "    <tr>\n",
       "      <th>3</th>\n",
       "      <td>NaN</td>\n",
       "      <td>NaN</td>\n",
       "      <td>Tony</td>\n",
       "      <td>NaN</td>\n",
       "    </tr>\n",
       "  </tbody>\n",
       "</table>\n",
       "</div>"
      ],
      "text/plain": [
       "           email          full_name     first       last\n",
       "0  123@email.com     Indranil Palit  Indranil      Palit\n",
       "1  234@email.com        Mayan Sahoo     Mayan      Sahoo\n",
       "2  456@email.com  Anubhav Srivastva   Anubhav  Srivastva\n",
       "3            NaN                NaN      Tony        NaN"
      ]
     },
     "execution_count": 327,
     "metadata": {},
     "output_type": "execute_result"
    }
   ],
   "source": [
    "df.append({'first':'Tony'},ignore_index=True)"
   ]
  },
  {
   "cell_type": "code",
   "execution_count": 348,
   "id": "5d40fec4",
   "metadata": {},
   "outputs": [],
   "source": [
    "people = {\n",
    "    'first': ['Tony','Steve'],\n",
    "    'last': ['Stark','Rogers'],\n",
    "    'email': ['IronMan@avenge.com','Cap@avenge.com']\n",
    "}\n",
    "\n",
    "df2 = pd.DataFrame(people)"
   ]
  },
  {
   "cell_type": "code",
   "execution_count": 333,
   "id": "b8fafae1",
   "metadata": {},
   "outputs": [
    {
     "data": {
      "text/html": [
       "<div>\n",
       "<style scoped>\n",
       "    .dataframe tbody tr th:only-of-type {\n",
       "        vertical-align: middle;\n",
       "    }\n",
       "\n",
       "    .dataframe tbody tr th {\n",
       "        vertical-align: top;\n",
       "    }\n",
       "\n",
       "    .dataframe thead th {\n",
       "        text-align: right;\n",
       "    }\n",
       "</style>\n",
       "<table border=\"1\" class=\"dataframe\">\n",
       "  <thead>\n",
       "    <tr style=\"text-align: right;\">\n",
       "      <th></th>\n",
       "      <th>first</th>\n",
       "      <th>last</th>\n",
       "      <th>email</th>\n",
       "    </tr>\n",
       "  </thead>\n",
       "  <tbody>\n",
       "    <tr>\n",
       "      <th>0</th>\n",
       "      <td>Tony</td>\n",
       "      <td>Stark</td>\n",
       "      <td>IronMan@avenge.com</td>\n",
       "    </tr>\n",
       "    <tr>\n",
       "      <th>1</th>\n",
       "      <td>Steve</td>\n",
       "      <td>Rogers</td>\n",
       "      <td>Cap@avenge.com</td>\n",
       "    </tr>\n",
       "  </tbody>\n",
       "</table>\n",
       "</div>"
      ],
      "text/plain": [
       "   first    last               email\n",
       "0   Tony   Stark  IronMan@avenge.com\n",
       "1  Steve  Rogers      Cap@avenge.com"
      ]
     },
     "execution_count": 333,
     "metadata": {},
     "output_type": "execute_result"
    }
   ],
   "source": [
    "df2"
   ]
  },
  {
   "cell_type": "code",
   "execution_count": 345,
   "id": "4252b4dd",
   "metadata": {},
   "outputs": [
    {
     "name": "stderr",
     "output_type": "stream",
     "text": [
      "C:\\Users\\indro\\AppData\\Local\\Temp\\ipykernel_9716\\1395412685.py:1: FutureWarning: The frame.append method is deprecated and will be removed from pandas in a future version. Use pandas.concat instead.\n",
      "  df.append(df2,ignore_index=True,sort=False)\n"
     ]
    },
    {
     "data": {
      "text/html": [
       "<div>\n",
       "<style scoped>\n",
       "    .dataframe tbody tr th:only-of-type {\n",
       "        vertical-align: middle;\n",
       "    }\n",
       "\n",
       "    .dataframe tbody tr th {\n",
       "        vertical-align: top;\n",
       "    }\n",
       "\n",
       "    .dataframe thead th {\n",
       "        text-align: right;\n",
       "    }\n",
       "</style>\n",
       "<table border=\"1\" class=\"dataframe\">\n",
       "  <thead>\n",
       "    <tr style=\"text-align: right;\">\n",
       "      <th></th>\n",
       "      <th>email</th>\n",
       "      <th>full_name</th>\n",
       "      <th>first</th>\n",
       "      <th>last</th>\n",
       "    </tr>\n",
       "  </thead>\n",
       "  <tbody>\n",
       "    <tr>\n",
       "      <th>0</th>\n",
       "      <td>123@email.com</td>\n",
       "      <td>Indranil Palit</td>\n",
       "      <td>Indranil</td>\n",
       "      <td>Palit</td>\n",
       "    </tr>\n",
       "    <tr>\n",
       "      <th>1</th>\n",
       "      <td>234@email.com</td>\n",
       "      <td>Mayan Sahoo</td>\n",
       "      <td>Mayan</td>\n",
       "      <td>Sahoo</td>\n",
       "    </tr>\n",
       "    <tr>\n",
       "      <th>2</th>\n",
       "      <td>456@email.com</td>\n",
       "      <td>Anubhav Srivastva</td>\n",
       "      <td>Anubhav</td>\n",
       "      <td>Srivastva</td>\n",
       "    </tr>\n",
       "    <tr>\n",
       "      <th>3</th>\n",
       "      <td>IronMan@avenge.com</td>\n",
       "      <td>NaN</td>\n",
       "      <td>Tony</td>\n",
       "      <td>Stark</td>\n",
       "    </tr>\n",
       "    <tr>\n",
       "      <th>4</th>\n",
       "      <td>Cap@avenge.com</td>\n",
       "      <td>NaN</td>\n",
       "      <td>Steve</td>\n",
       "      <td>Rogers</td>\n",
       "    </tr>\n",
       "  </tbody>\n",
       "</table>\n",
       "</div>"
      ],
      "text/plain": [
       "                email          full_name     first       last\n",
       "0       123@email.com     Indranil Palit  Indranil      Palit\n",
       "1       234@email.com        Mayan Sahoo     Mayan      Sahoo\n",
       "2       456@email.com  Anubhav Srivastva   Anubhav  Srivastva\n",
       "3  IronMan@avenge.com                NaN      Tony      Stark\n",
       "4      Cap@avenge.com                NaN     Steve     Rogers"
      ]
     },
     "execution_count": 345,
     "metadata": {},
     "output_type": "execute_result"
    }
   ],
   "source": [
    "df.append(df2,ignore_index=True,sort=False)"
   ]
  },
  {
   "cell_type": "code",
   "execution_count": 352,
   "id": "c42ce617",
   "metadata": {},
   "outputs": [
    {
     "data": {
      "text/html": [
       "<div>\n",
       "<style scoped>\n",
       "    .dataframe tbody tr th:only-of-type {\n",
       "        vertical-align: middle;\n",
       "    }\n",
       "\n",
       "    .dataframe tbody tr th {\n",
       "        vertical-align: top;\n",
       "    }\n",
       "\n",
       "    .dataframe thead th {\n",
       "        text-align: right;\n",
       "    }\n",
       "</style>\n",
       "<table border=\"1\" class=\"dataframe\">\n",
       "  <thead>\n",
       "    <tr style=\"text-align: right;\">\n",
       "      <th></th>\n",
       "      <th>email</th>\n",
       "      <th>full_name</th>\n",
       "      <th>first</th>\n",
       "      <th>last</th>\n",
       "    </tr>\n",
       "  </thead>\n",
       "  <tbody>\n",
       "    <tr>\n",
       "      <th>2</th>\n",
       "      <td>456@email.com</td>\n",
       "      <td>Anubhav Srivastva</td>\n",
       "      <td>Anubhav</td>\n",
       "      <td>Srivastva</td>\n",
       "    </tr>\n",
       "    <tr>\n",
       "      <th>1</th>\n",
       "      <td>234@email.com</td>\n",
       "      <td>Mayan Sahoo</td>\n",
       "      <td>Mayan</td>\n",
       "      <td>Sahoo</td>\n",
       "    </tr>\n",
       "    <tr>\n",
       "      <th>0</th>\n",
       "      <td>123@email.com</td>\n",
       "      <td>Indranil Palit</td>\n",
       "      <td>Indranil</td>\n",
       "      <td>Palit</td>\n",
       "    </tr>\n",
       "  </tbody>\n",
       "</table>\n",
       "</div>"
      ],
      "text/plain": [
       "           email          full_name     first       last\n",
       "2  456@email.com  Anubhav Srivastva   Anubhav  Srivastva\n",
       "1  234@email.com        Mayan Sahoo     Mayan      Sahoo\n",
       "0  123@email.com     Indranil Palit  Indranil      Palit"
      ]
     },
     "execution_count": 352,
     "metadata": {},
     "output_type": "execute_result"
    }
   ],
   "source": [
    "df.sort_values(by=['last','first'],ascending=[False,True])"
   ]
  },
  {
   "cell_type": "code",
   "execution_count": 354,
   "id": "3068abb0",
   "metadata": {},
   "outputs": [
    {
     "data": {
      "text/plain": [
       "0        Palit\n",
       "1        Sahoo\n",
       "2    Srivastva\n",
       "Name: last, dtype: object"
      ]
     },
     "execution_count": 354,
     "metadata": {},
     "output_type": "execute_result"
    }
   ],
   "source": [
    "df['last'].sort_values()"
   ]
  },
  {
   "cell_type": "markdown",
   "id": "1ba971b6",
   "metadata": {},
   "source": [
    "# Cleaning Data and Casting"
   ]
  },
  {
   "cell_type": "code",
   "execution_count": 1,
   "id": "f1625156",
   "metadata": {},
   "outputs": [],
   "source": [
    "import numpy as np\n",
    "import pandas as pd"
   ]
  },
  {
   "cell_type": "code",
   "execution_count": null,
   "id": "e42102cb",
   "metadata": {},
   "outputs": [],
   "source": []
  }
 ],
 "metadata": {
  "kernelspec": {
   "display_name": "Python 3 (ipykernel)",
   "language": "python",
   "name": "python3"
  },
  "language_info": {
   "codemirror_mode": {
    "name": "ipython",
    "version": 3
   },
   "file_extension": ".py",
   "mimetype": "text/x-python",
   "name": "python",
   "nbconvert_exporter": "python",
   "pygments_lexer": "ipython3",
   "version": "3.9.13"
  }
 },
 "nbformat": 4,
 "nbformat_minor": 5
}
