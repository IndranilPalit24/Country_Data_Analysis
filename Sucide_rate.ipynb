[33mcommit 62320936bdaec62b6b0524860b25d863307c8478[m[33m ([m[1;36mHEAD -> [m[1;32mmain[m[33m, [m[1;31morigin/main[m[33m)[m
Merge: 1b61202 fd9f4a7
Author: Indranil Palit <you@example.com>
Date:   Fri Jan 6 13:34:22 2023 +0530

    Attrition rate of the employees

[33mcommit 1b612029e004c13c8a594f983968257d296cbc2e[m
Author: Indranil Palit <you@example.com>
Date:   Fri Jan 6 13:30:36 2023 +0530

    Attrition rate of all the employees in the world

 Employee_attrition_rate.ipynb | 338 [32m++++++++++++++++++++++++++++++++++++++++++[m
 1 file changed, 338 insertions(+)

[33mcommit fd9f4a72f20cb085b9616ae2525dd9c8afee478b[m
Author: Indranil_Palit <73847100+IndranilPalit24@users.noreply.github.com>
Date:   Fri Jan 6 10:12:03 2023 +0530

    Delete Employee_attrition_rate.ipynb

 Employee_attrition_rate.ipynb | 0
 1 file changed, 0 insertions(+), 0 deletions(-)

[33mcommit 61a4eb6f200c94b3d9c76d8a0b5383647ef57625[m
Author: Indranil Palit <you@example.com>
Date:   Fri Jan 6 10:11:06 2023 +0530

    Attrition rate of employees from companies all over the world

 Employee_attrition_rate.ipynb | 0
 1 file changed, 0 insertions(+), 0 deletions(-)

[33mcommit 31353a671031cca55acbab4f02cea8becbf6c379[m
Author: Indranil Palit <you@example.com>
Date:   Thu Jan 5 13:23:23 2023 +0530

    Sucide rates in all parts of the worls

 Sucide_Rates.ipynb | 1086 [32m++++++++++++++++++++++++++++++++++++++++++++++++++++[m
 1 file changed, 1086 insertions(+)

[33mcommit 70cd6e87551e122cd916d10ded28e87ac69544db[m
Author: Indranil Palit <you@example.com>
Date:   Thu Jan 5 10:46:38 2023 +0530

    Intial Commit

 FirstNotebook.ipynb | 1234 [32m+++++++++++++++++++++++++++++++++++++++++++++++++++[m
 1 file changed, 1234 insertions(+)
