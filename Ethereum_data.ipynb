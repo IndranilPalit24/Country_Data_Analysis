{
 "cells": [
  {
   "cell_type": "code",
   "execution_count": 1,
   "metadata": {},
   "outputs": [],
   "source": [
    "import pandas as pd\n"
   ]
  },
  {
   "cell_type": "code",
   "execution_count": 8,
   "metadata": {},
   "outputs": [
    {
     "data": {
      "text/html": [
       "<div>\n",
       "<style scoped>\n",
       "    .dataframe tbody tr th:only-of-type {\n",
       "        vertical-align: middle;\n",
       "    }\n",
       "\n",
       "    .dataframe tbody tr th {\n",
       "        vertical-align: top;\n",
       "    }\n",
       "\n",
       "    .dataframe thead th {\n",
       "        text-align: right;\n",
       "    }\n",
       "</style>\n",
       "<table border=\"1\" class=\"dataframe\">\n",
       "  <thead>\n",
       "    <tr style=\"text-align: right;\">\n",
       "      <th></th>\n",
       "      <th>Unix Timestamp</th>\n",
       "      <th>Date</th>\n",
       "      <th>Symbol</th>\n",
       "      <th>Open</th>\n",
       "      <th>High</th>\n",
       "      <th>Low</th>\n",
       "      <th>Close</th>\n",
       "      <th>Volume</th>\n",
       "    </tr>\n",
       "  </thead>\n",
       "  <tbody>\n",
       "    <tr>\n",
       "      <th>0</th>\n",
       "      <td>1586995200000</td>\n",
       "      <td>2020-04-16 00:00:00</td>\n",
       "      <td>ETHUSD</td>\n",
       "      <td>152.94</td>\n",
       "      <td>152.94</td>\n",
       "      <td>150.39</td>\n",
       "      <td>150.39</td>\n",
       "      <td>650.188125</td>\n",
       "    </tr>\n",
       "    <tr>\n",
       "      <th>1</th>\n",
       "      <td>1586991600000</td>\n",
       "      <td>2020-04-15 23:00:00</td>\n",
       "      <td>ETHUSD</td>\n",
       "      <td>155.81</td>\n",
       "      <td>155.81</td>\n",
       "      <td>151.39</td>\n",
       "      <td>152.94</td>\n",
       "      <td>4277.567299</td>\n",
       "    </tr>\n",
       "    <tr>\n",
       "      <th>2</th>\n",
       "      <td>1586988000000</td>\n",
       "      <td>2020-04-15 22:00:00</td>\n",
       "      <td>ETHUSD</td>\n",
       "      <td>157.18</td>\n",
       "      <td>157.30</td>\n",
       "      <td>155.32</td>\n",
       "      <td>155.81</td>\n",
       "      <td>106.337279</td>\n",
       "    </tr>\n",
       "    <tr>\n",
       "      <th>3</th>\n",
       "      <td>1586984400000</td>\n",
       "      <td>2020-04-15 21:00:00</td>\n",
       "      <td>ETHUSD</td>\n",
       "      <td>158.04</td>\n",
       "      <td>158.31</td>\n",
       "      <td>157.16</td>\n",
       "      <td>157.18</td>\n",
       "      <td>55.244131</td>\n",
       "    </tr>\n",
       "    <tr>\n",
       "      <th>4</th>\n",
       "      <td>1586980800000</td>\n",
       "      <td>2020-04-15 20:00:00</td>\n",
       "      <td>ETHUSD</td>\n",
       "      <td>157.10</td>\n",
       "      <td>158.10</td>\n",
       "      <td>156.87</td>\n",
       "      <td>158.04</td>\n",
       "      <td>144.262622</td>\n",
       "    </tr>\n",
       "    <tr>\n",
       "      <th>...</th>\n",
       "      <td>...</td>\n",
       "      <td>...</td>\n",
       "      <td>...</td>\n",
       "      <td>...</td>\n",
       "      <td>...</td>\n",
       "      <td>...</td>\n",
       "      <td>...</td>\n",
       "      <td>...</td>\n",
       "    </tr>\n",
       "    <tr>\n",
       "      <th>95</th>\n",
       "      <td>1586653200000</td>\n",
       "      <td>2020-04-12 01:00:00</td>\n",
       "      <td>ETHUSD</td>\n",
       "      <td>157.89</td>\n",
       "      <td>158.41</td>\n",
       "      <td>157.54</td>\n",
       "      <td>157.54</td>\n",
       "      <td>50.738859</td>\n",
       "    </tr>\n",
       "    <tr>\n",
       "      <th>96</th>\n",
       "      <td>1586649600000</td>\n",
       "      <td>2020-04-12 00:00:00</td>\n",
       "      <td>ETHUSD</td>\n",
       "      <td>158.66</td>\n",
       "      <td>159.66</td>\n",
       "      <td>157.89</td>\n",
       "      <td>157.89</td>\n",
       "      <td>377.755902</td>\n",
       "    </tr>\n",
       "    <tr>\n",
       "      <th>97</th>\n",
       "      <td>1586646000000</td>\n",
       "      <td>2020-04-11 23:00:00</td>\n",
       "      <td>ETHUSD</td>\n",
       "      <td>158.20</td>\n",
       "      <td>158.91</td>\n",
       "      <td>157.32</td>\n",
       "      <td>158.66</td>\n",
       "      <td>67.532858</td>\n",
       "    </tr>\n",
       "    <tr>\n",
       "      <th>98</th>\n",
       "      <td>1586642400000</td>\n",
       "      <td>2020-04-11 22:00:00</td>\n",
       "      <td>ETHUSD</td>\n",
       "      <td>157.38</td>\n",
       "      <td>158.91</td>\n",
       "      <td>157.38</td>\n",
       "      <td>158.20</td>\n",
       "      <td>523.814638</td>\n",
       "    </tr>\n",
       "    <tr>\n",
       "      <th>99</th>\n",
       "      <td>1586638800000</td>\n",
       "      <td>2020-04-11 21:00:00</td>\n",
       "      <td>ETHUSD</td>\n",
       "      <td>155.02</td>\n",
       "      <td>157.38</td>\n",
       "      <td>154.72</td>\n",
       "      <td>157.38</td>\n",
       "      <td>42.849201</td>\n",
       "    </tr>\n",
       "  </tbody>\n",
       "</table>\n",
       "<p>100 rows × 8 columns</p>\n",
       "</div>"
      ],
      "text/plain": [
       "    Unix Timestamp                 Date  Symbol    Open    High     Low  \\\n",
       "0    1586995200000  2020-04-16 00:00:00  ETHUSD  152.94  152.94  150.39   \n",
       "1    1586991600000  2020-04-15 23:00:00  ETHUSD  155.81  155.81  151.39   \n",
       "2    1586988000000  2020-04-15 22:00:00  ETHUSD  157.18  157.30  155.32   \n",
       "3    1586984400000  2020-04-15 21:00:00  ETHUSD  158.04  158.31  157.16   \n",
       "4    1586980800000  2020-04-15 20:00:00  ETHUSD  157.10  158.10  156.87   \n",
       "..             ...                  ...     ...     ...     ...     ...   \n",
       "95   1586653200000  2020-04-12 01:00:00  ETHUSD  157.89  158.41  157.54   \n",
       "96   1586649600000  2020-04-12 00:00:00  ETHUSD  158.66  159.66  157.89   \n",
       "97   1586646000000  2020-04-11 23:00:00  ETHUSD  158.20  158.91  157.32   \n",
       "98   1586642400000  2020-04-11 22:00:00  ETHUSD  157.38  158.91  157.38   \n",
       "99   1586638800000  2020-04-11 21:00:00  ETHUSD  155.02  157.38  154.72   \n",
       "\n",
       "     Close       Volume  \n",
       "0   150.39   650.188125  \n",
       "1   152.94  4277.567299  \n",
       "2   155.81   106.337279  \n",
       "3   157.18    55.244131  \n",
       "4   158.04   144.262622  \n",
       "..     ...          ...  \n",
       "95  157.54    50.738859  \n",
       "96  157.89   377.755902  \n",
       "97  158.66    67.532858  \n",
       "98  158.20   523.814638  \n",
       "99  157.38    42.849201  \n",
       "\n",
       "[100 rows x 8 columns]"
      ]
     },
     "execution_count": 8,
     "metadata": {},
     "output_type": "execute_result"
    }
   ],
   "source": [
    "df = pd.read_csv('E:\\Kaggle DB\\Extracted\\ETH Data\\ETH_1H.csv')\n",
    "df.head(100)"
   ]
  },
  {
   "cell_type": "code",
   "execution_count": 6,
   "metadata": {},
   "outputs": [
    {
     "data": {
      "text/plain": [
       "(34497, 8)"
      ]
     },
     "execution_count": 6,
     "metadata": {},
     "output_type": "execute_result"
    }
   ],
   "source": [
    "df.shape"
   ]
  },
  {
   "cell_type": "code",
   "execution_count": 10,
   "metadata": {},
   "outputs": [
    {
     "data": {
      "text/plain": [
       "'2020-04-16 00:00:00'"
      ]
     },
     "execution_count": 10,
     "metadata": {},
     "output_type": "execute_result"
    }
   ],
   "source": [
    "df.loc[0,'Date']  #For one DataSet"
   ]
  },
  {
   "cell_type": "code",
   "execution_count": 25,
   "metadata": {},
   "outputs": [
    {
     "data": {
      "text/html": [
       "<div>\n",
       "<style scoped>\n",
       "    .dataframe tbody tr th:only-of-type {\n",
       "        vertical-align: middle;\n",
       "    }\n",
       "\n",
       "    .dataframe tbody tr th {\n",
       "        vertical-align: top;\n",
       "    }\n",
       "\n",
       "    .dataframe thead th {\n",
       "        text-align: right;\n",
       "    }\n",
       "</style>\n",
       "<table border=\"1\" class=\"dataframe\">\n",
       "  <thead>\n",
       "    <tr style=\"text-align: right;\">\n",
       "      <th></th>\n",
       "      <th>Date</th>\n",
       "      <th>Open</th>\n",
       "      <th>High</th>\n",
       "      <th>Low</th>\n",
       "      <th>Close</th>\n",
       "      <th>Volume</th>\n",
       "    </tr>\n",
       "  </thead>\n",
       "  <tbody>\n",
       "    <tr>\n",
       "      <th>0</th>\n",
       "      <td>2020-04-16 00:00:00</td>\n",
       "      <td>152.94</td>\n",
       "      <td>152.94</td>\n",
       "      <td>150.39</td>\n",
       "      <td>150.39</td>\n",
       "      <td>650.188125</td>\n",
       "    </tr>\n",
       "    <tr>\n",
       "      <th>2</th>\n",
       "      <td>2020-04-15 22:00:00</td>\n",
       "      <td>157.18</td>\n",
       "      <td>157.30</td>\n",
       "      <td>155.32</td>\n",
       "      <td>155.81</td>\n",
       "      <td>106.337279</td>\n",
       "    </tr>\n",
       "  </tbody>\n",
       "</table>\n",
       "</div>"
      ],
      "text/plain": [
       "                  Date    Open    High     Low   Close      Volume\n",
       "0  2020-04-16 00:00:00  152.94  152.94  150.39  150.39  650.188125\n",
       "2  2020-04-15 22:00:00  157.18  157.30  155.32  155.81  106.337279"
      ]
     },
     "execution_count": 25,
     "metadata": {},
     "output_type": "execute_result"
    }
   ],
   "source": [
    "df.loc[[0,2],['Date','Open','High','Low','Close','Volume']]\n",
    "\n",
    "#This above code determines that 0 and 2nd day Open, high, close, low and Volume for which the stock was brought\n",
    "#with the date"
   ]
  },
  {
   "cell_type": "code",
   "execution_count": 36,
   "metadata": {},
   "outputs": [],
   "source": [
    "df['Date'] = pd.to_datetime(df['Date'], format = '%d-%m-%y  %I-%p')\n"
   ]
  },
  {
   "cell_type": "code",
   "execution_count": 35,
   "metadata": {},
   "outputs": [
    {
     "data": {
      "text/plain": [
       "0       2020-04-16 00:00:00+00:00\n",
       "1       2020-04-15 23:00:00+00:00\n",
       "2       2020-04-15 22:00:00+00:00\n",
       "3       2020-04-15 21:00:00+00:00\n",
       "4       2020-04-15 20:00:00+00:00\n",
       "                   ...           \n",
       "34492   2016-05-09 17:00:00+00:00\n",
       "34493   2016-05-09 16:00:00+00:00\n",
       "34494   2016-05-09 15:00:00+00:00\n",
       "34495   2016-05-09 14:00:00+00:00\n",
       "34496   2016-05-09 13:00:00+00:00\n",
       "Name: Date, Length: 34497, dtype: datetime64[ns, UTC]"
      ]
     },
     "execution_count": 35,
     "metadata": {},
     "output_type": "execute_result"
    }
   ],
   "source": [
    "df['Date']"
   ]
  }
 ],
 "metadata": {
  "kernelspec": {
   "display_name": "Python 3",
   "language": "python",
   "name": "python3"
  },
  "language_info": {
   "codemirror_mode": {
    "name": "ipython",
    "version": 3
   },
   "file_extension": ".py",
   "mimetype": "text/x-python",
   "name": "python",
   "nbconvert_exporter": "python",
   "pygments_lexer": "ipython3",
   "version": "3.11.1"
  },
  "orig_nbformat": 4,
  "vscode": {
   "interpreter": {
    "hash": "56c44b361e795f1dc3b78b863d1c0a4aac599393dfb9e45cbfb7e856b453310f"
   }
  }
 },
 "nbformat": 4,
 "nbformat_minor": 2
}
