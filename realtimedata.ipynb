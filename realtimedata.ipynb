{
 "cells": [
  {
   "cell_type": "code",
   "execution_count": 18,
   "metadata": {},
   "outputs": [],
   "source": [
    "import csv\n",
    "import random\n",
    "import time\n",
    "\n",
    "from itertools import count\n",
    "import pandas as pd\n",
    "import matplotlib.pyplot as plt\n",
    "from matplotlib.animation import FuncAnimation\n",
    "\n"
   ]
  },
  {
   "cell_type": "code",
   "execution_count": 19,
   "metadata": {},
   "outputs": [],
   "source": [
    "x_value = 0\n",
    "total_1 = 1000\n",
    "total_2 = 1000"
   ]
  },
  {
   "cell_type": "code",
   "execution_count": 20,
   "metadata": {},
   "outputs": [],
   "source": [
    "field_names = [\"x_value\", \"total_1\",\"total_2\"]"
   ]
  },
  {
   "cell_type": "code",
   "execution_count": 21,
   "metadata": {},
   "outputs": [],
   "source": [
    "with open('E:\\\\Kaggle DB\\\\Extracted\\\\realtimedata.csv', 'w') as csv_file:\n",
    "    csv_writer = csv.DictWriter(csv_file, fieldnames=field_names)\n",
    "    csv_writer.writeheader()"
   ]
  },
  {
   "cell_type": "code",
   "execution_count": 22,
   "metadata": {},
   "outputs": [
    {
     "name": "stdout",
     "output_type": "stream",
     "text": [
      "0 1000 1000\n",
      "1 1008 997\n",
      "2 1006 993\n",
      "3 1014 988\n",
      "4 1012 989\n",
      "5 1010 984\n",
      "6 1012 990\n",
      "7 1013 990\n",
      "8 1012 985\n",
      "9 1014 984\n",
      "10 1011 985\n",
      "11 1007 983\n",
      "12 1007 978\n",
      "13 1014 975\n",
      "14 1012 975\n",
      "15 1014 973\n",
      "16 1011 972\n",
      "17 1017 972\n",
      "18 1015 972\n",
      "19 1012 974\n",
      "20 1016 978\n",
      "21 1019 982\n",
      "22 1025 988\n",
      "23 1029 994\n",
      "24 1025 997\n",
      "25 1022 1002\n",
      "26 1021 1000\n",
      "27 1017 1000\n",
      "28 1022 1001\n",
      "29 1018 1003\n",
      "30 1022 1003\n",
      "31 1025 1006\n",
      "32 1021 1006\n",
      "33 1026 1008\n",
      "34 1026 1011\n",
      "35 1033 1006\n",
      "36 1036 1001\n",
      "37 1040 1003\n",
      "38 1046 1007\n",
      "39 1042 1011\n",
      "40 1039 1013\n",
      "41 1042 1008\n",
      "42 1042 1004\n",
      "43 1040 1008\n",
      "44 1042 1007\n",
      "45 1036 1008\n",
      "46 1036 1014\n",
      "47 1042 1011\n",
      "48 1046 1016\n",
      "49 1049 1013\n",
      "50 1053 1011\n",
      "51 1057 1017\n",
      "52 1051 1020\n",
      "53 1047 1021\n",
      "54 1047 1025\n",
      "55 1052 1021\n",
      "56 1058 1025\n",
      "57 1056 1022\n",
      "58 1052 1018\n",
      "59 1053 1020\n",
      "60 1055 1018\n"
     ]
    },
    {
     "ename": "KeyboardInterrupt",
     "evalue": "",
     "output_type": "error",
     "traceback": [
      "\u001b[1;31m---------------------------------------------------------------------------\u001b[0m",
      "\u001b[1;31mKeyboardInterrupt\u001b[0m                         Traceback (most recent call last)",
      "Cell \u001b[1;32mIn[22], line 20\u001b[0m\n\u001b[0;32m     16\u001b[0m total_1 \u001b[39m=\u001b[39m total_1 \u001b[39m+\u001b[39m random\u001b[39m.\u001b[39mrandint(\u001b[39m-\u001b[39m\u001b[39m6\u001b[39m,\u001b[39m8\u001b[39m)\n\u001b[0;32m     17\u001b[0m total_2 \u001b[39m=\u001b[39m total_2 \u001b[39m+\u001b[39m random\u001b[39m.\u001b[39mrandint(\u001b[39m-\u001b[39m\u001b[39m5\u001b[39m,\u001b[39m6\u001b[39m)\n\u001b[1;32m---> 20\u001b[0m time\u001b[39m.\u001b[39msleep(\u001b[39m1\u001b[39m)\n",
      "\u001b[1;31mKeyboardInterrupt\u001b[0m: "
     ]
    }
   ],
   "source": [
    "while True:\n",
    "    with open('E:\\\\Kaggle DB\\\\Extracted\\\\realtimedata.csv', 'a') as csv_file:\n",
    "        csv_writer = csv.DictWriter(csv_file, fieldnames = field_names)\n",
    "\n",
    "        info = {\n",
    "            \"x_value\": x_value,\n",
    "            \"total_1\": total_1,\n",
    "            \"total_2\": total_2\n",
    "\n",
    "        }\n",
    "\n",
    "        csv_writer.writerow(info)\n",
    "        print(x_value, total_1, total_2)\n",
    "\n",
    "        x_value+=1\n",
    "        total_1 = total_1 + random.randint(-6,8)\n",
    "        total_2 = total_2 + random.randint(-5,6)\n",
    "\n",
    "\n",
    "        time.sleep(1)\n",
    "\n",
    "\n"
   ]
  }
 ],
 "metadata": {
  "kernelspec": {
   "display_name": "Python 3",
   "language": "python",
   "name": "python3"
  },
  "language_info": {
   "codemirror_mode": {
    "name": "ipython",
    "version": 3
   },
   "file_extension": ".py",
   "mimetype": "text/x-python",
   "name": "python",
   "nbconvert_exporter": "python",
   "pygments_lexer": "ipython3",
   "version": "3.11.1"
  },
  "orig_nbformat": 4,
  "vscode": {
   "interpreter": {
    "hash": "56c44b361e795f1dc3b78b863d1c0a4aac599393dfb9e45cbfb7e856b453310f"
   }
  }
 },
 "nbformat": 4,
 "nbformat_minor": 2
}
